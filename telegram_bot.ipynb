{
 "cells": [
  {
   "cell_type": "code",
   "execution_count": null,
   "id": "c9be0bdb",
   "metadata": {},
   "outputs": [],
   "source": [
    "import pandas as pd\n",
    "from difflib import SequenceMatcher\n",
    "from telegram.ext import Updater, CommandHandler, MessageHandler, Filters"
   ]
  },
  {
   "cell_type": "code",
   "execution_count": null,
   "id": "d4ca3484",
   "metadata": {},
   "outputs": [],
   "source": []
  },
  {
   "cell_type": "code",
   "execution_count": null,
   "id": "1bc5ad84",
   "metadata": {},
   "outputs": [],
   "source": [
    "TOKEN = 'YOUR TOKEN'\n",
    "\n",
    "with open('./cosine_similarity.pkl', 'rb') as f:\n",
    "    cosine_similarity = pd.read_pickle(f)\n",
    "\n",
    "with open('./unique_game_cards.csv') as f:\n",
    "    unique_game_cards = pd.read_csv(f, encoding='unicode_escape')"
   ]
  },
  {
   "cell_type": "code",
   "execution_count": null,
   "id": "4070d542",
   "metadata": {},
   "outputs": [],
   "source": []
  },
  {
   "cell_type": "code",
   "execution_count": null,
   "id": "9de078f8",
   "metadata": {},
   "outputs": [],
   "source": [
    "def start(update, context):\n",
    "    update.message.reply_text('Hi! This bot can recommend games to you based on your ' \\\n",
    "                              'preferences. Send me the name of the game and see what you get.')\n",
    "\n",
    "\n",
    "def check_name(text):\n",
    "    ratio = unique_game_cards['name'].apply(lambda x: SequenceMatcher(None, text.lower(), x.lower()).ratio())\n",
    "    best_match = ratio.sort_values(ascending=False).index[0]\n",
    "    return unique_game_cards.loc[best_match]['name']\n",
    "\n",
    "\n",
    "def get_recomendation(game_name):\n",
    "    sim_scores = list(enumerate(cosine_similarity.loc[game_name]))\n",
    "    sim_scores = sorted(sim_scores, key=lambda x: x[1], reverse=True)\n",
    "    sim_scores = sim_scores[1:6]\n",
    "    games = [i[0] for i in sim_scores]\n",
    "    scores = [i[1] for i in sim_scores]\n",
    "    df = unique_game_cards.iloc[games].copy()\n",
    "    df['scores'] = scores\n",
    "    return df\n",
    "\n",
    "\n",
    "def harmonic_mean(dataframe):\n",
    "    ms_normalize = dataframe['metascore'] / max(unique_game_cards['metascore'])\n",
    "    us_normalize = dataframe['userscore'] / max(unique_game_cards['userscore'])\n",
    "    cosine_sim = dataframe['scores']\n",
    "    return 3 / (1 / ms_normalize + 1 / us_normalize + 1 / cosine_sim)\n",
    "\n",
    "\n",
    "def generate_message(game_name, recomendation_df):\n",
    "    message = f\"Do you mean <b>{game_name}</b>? If not, I recommend copying the \" \\\n",
    "              f\"name of the game from <a href='https://metacritic.com'>Metacritic</a>.\\n\\n\"\n",
    "    for index, (_, row) in enumerate(recomendation_df.iterrows()):\n",
    "        har_mean = round(row['harmonic_mean'], 4)\n",
    "        message += f\"{index + 1}. <a href='https://metacritic.com{row['href']}'>{row['name']}</a> ({har_mean})\\n\"\n",
    "    return message\n",
    "\n",
    "\n",
    "def echo(update, context):\n",
    "    game_name = check_name(update.message.text)\n",
    "    recomendation_df = get_recomendation(game_name)\n",
    "    recomendation_df['harmonic_mean'] = harmonic_mean(recomendation_df)\n",
    "    recomendation_df.sort_values('harmonic_mean', ascending=False, inplace=True)\n",
    "    message = generate_message(game_name, recomendation_df)\n",
    "    update.message.reply_text(message, parse_mode='HTML', disable_web_page_preview=True)\n",
    "\n",
    "\n",
    "def main():\n",
    "    updater = Updater(TOKEN, use_context=True)\n",
    "\n",
    "    dp = updater.dispatcher\n",
    "\n",
    "    dp.add_handler(CommandHandler(\"start\", start))\n",
    "    dp.add_handler(CommandHandler(\"help\", start))\n",
    "    dp.add_handler(MessageHandler(Filters.text, echo))\n",
    "\n",
    "    updater.start_polling()\n",
    "    updater.idle()"
   ]
  },
  {
   "cell_type": "code",
   "execution_count": null,
   "id": "7492967c",
   "metadata": {},
   "outputs": [],
   "source": []
  }
 ],
 "metadata": {
  "kernelspec": {
   "display_name": "Python 3 (ipykernel)",
   "language": "python",
   "name": "python3"
  },
  "language_info": {
   "codemirror_mode": {
    "name": "ipython",
    "version": 3
   },
   "file_extension": ".py",
   "mimetype": "text/x-python",
   "name": "python",
   "nbconvert_exporter": "python",
   "pygments_lexer": "ipython3",
   "version": "3.9.13"
  }
 },
 "nbformat": 4,
 "nbformat_minor": 5
}
